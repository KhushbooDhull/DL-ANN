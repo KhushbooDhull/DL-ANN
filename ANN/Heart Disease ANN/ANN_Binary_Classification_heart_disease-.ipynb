{
 "cells": [
  {
   "cell_type": "markdown",
   "id": "ac882580",
   "metadata": {},
   "source": [
    "#### For ANN Binary Classification\n",
    "1) Activation Function Used in hidden layers - relu, LeakyReLU<br>\n",
    "2) Activation function used in output layer - sigmoid<br>\n",
    "3) Optimzier - adam, rmsprop, sgd<br>\n",
    "4) Loss Function - binary_crossentropy<br>\n"
   ]
  },
  {
   "cell_type": "code",
   "execution_count": 27,
   "id": "938f08a7",
   "metadata": {},
   "outputs": [],
   "source": [
    "import pandas as pd\n",
    "import numpy as np\n",
    "import matplotlib.pyplot as plt"
   ]
  },
  {
   "cell_type": "code",
   "execution_count": 28,
   "id": "44a4c0b0",
   "metadata": {},
   "outputs": [
    {
     "data": {
      "text/html": [
       "<div>\n",
       "<style scoped>\n",
       "    .dataframe tbody tr th:only-of-type {\n",
       "        vertical-align: middle;\n",
       "    }\n",
       "\n",
       "    .dataframe tbody tr th {\n",
       "        vertical-align: top;\n",
       "    }\n",
       "\n",
       "    .dataframe thead th {\n",
       "        text-align: right;\n",
       "    }\n",
       "</style>\n",
       "<table border=\"1\" class=\"dataframe\">\n",
       "  <thead>\n",
       "    <tr style=\"text-align: right;\">\n",
       "      <th></th>\n",
       "      <th>age</th>\n",
       "      <th>sex</th>\n",
       "      <th>cp</th>\n",
       "      <th>trtbps</th>\n",
       "      <th>chol</th>\n",
       "      <th>fbs</th>\n",
       "      <th>restecg</th>\n",
       "      <th>thalachh</th>\n",
       "      <th>exng</th>\n",
       "      <th>oldpeak</th>\n",
       "      <th>slp</th>\n",
       "      <th>caa</th>\n",
       "      <th>thall</th>\n",
       "      <th>output</th>\n",
       "    </tr>\n",
       "  </thead>\n",
       "  <tbody>\n",
       "    <tr>\n",
       "      <th>0</th>\n",
       "      <td>63</td>\n",
       "      <td>1</td>\n",
       "      <td>3</td>\n",
       "      <td>145</td>\n",
       "      <td>233</td>\n",
       "      <td>1</td>\n",
       "      <td>0</td>\n",
       "      <td>150</td>\n",
       "      <td>0</td>\n",
       "      <td>2.3</td>\n",
       "      <td>0</td>\n",
       "      <td>0</td>\n",
       "      <td>1</td>\n",
       "      <td>1</td>\n",
       "    </tr>\n",
       "    <tr>\n",
       "      <th>1</th>\n",
       "      <td>37</td>\n",
       "      <td>1</td>\n",
       "      <td>2</td>\n",
       "      <td>130</td>\n",
       "      <td>250</td>\n",
       "      <td>0</td>\n",
       "      <td>1</td>\n",
       "      <td>187</td>\n",
       "      <td>0</td>\n",
       "      <td>3.5</td>\n",
       "      <td>0</td>\n",
       "      <td>0</td>\n",
       "      <td>2</td>\n",
       "      <td>1</td>\n",
       "    </tr>\n",
       "    <tr>\n",
       "      <th>2</th>\n",
       "      <td>41</td>\n",
       "      <td>0</td>\n",
       "      <td>1</td>\n",
       "      <td>130</td>\n",
       "      <td>204</td>\n",
       "      <td>0</td>\n",
       "      <td>0</td>\n",
       "      <td>172</td>\n",
       "      <td>0</td>\n",
       "      <td>1.4</td>\n",
       "      <td>2</td>\n",
       "      <td>0</td>\n",
       "      <td>2</td>\n",
       "      <td>1</td>\n",
       "    </tr>\n",
       "    <tr>\n",
       "      <th>3</th>\n",
       "      <td>56</td>\n",
       "      <td>1</td>\n",
       "      <td>1</td>\n",
       "      <td>120</td>\n",
       "      <td>236</td>\n",
       "      <td>0</td>\n",
       "      <td>1</td>\n",
       "      <td>178</td>\n",
       "      <td>0</td>\n",
       "      <td>0.8</td>\n",
       "      <td>2</td>\n",
       "      <td>0</td>\n",
       "      <td>2</td>\n",
       "      <td>1</td>\n",
       "    </tr>\n",
       "    <tr>\n",
       "      <th>4</th>\n",
       "      <td>57</td>\n",
       "      <td>0</td>\n",
       "      <td>0</td>\n",
       "      <td>120</td>\n",
       "      <td>354</td>\n",
       "      <td>0</td>\n",
       "      <td>1</td>\n",
       "      <td>163</td>\n",
       "      <td>1</td>\n",
       "      <td>0.6</td>\n",
       "      <td>2</td>\n",
       "      <td>0</td>\n",
       "      <td>2</td>\n",
       "      <td>1</td>\n",
       "    </tr>\n",
       "  </tbody>\n",
       "</table>\n",
       "</div>"
      ],
      "text/plain": [
       "   age  sex  cp  trtbps  chol  fbs  restecg  thalachh  exng  oldpeak  slp  \\\n",
       "0   63    1   3     145   233    1        0       150     0      2.3    0   \n",
       "1   37    1   2     130   250    0        1       187     0      3.5    0   \n",
       "2   41    0   1     130   204    0        0       172     0      1.4    2   \n",
       "3   56    1   1     120   236    0        1       178     0      0.8    2   \n",
       "4   57    0   0     120   354    0        1       163     1      0.6    2   \n",
       "\n",
       "   caa  thall  output  \n",
       "0    0      1       1  \n",
       "1    0      2       1  \n",
       "2    0      2       1  \n",
       "3    0      2       1  \n",
       "4    0      2       1  "
      ]
     },
     "execution_count": 28,
     "metadata": {},
     "output_type": "execute_result"
    }
   ],
   "source": [
    "df = pd.read_csv('heart.csv')\n",
    "df.head()"
   ]
  },
  {
   "cell_type": "code",
   "execution_count": 29,
   "id": "3e372eea",
   "metadata": {},
   "outputs": [
    {
     "data": {
      "text/plain": [
       "(303, 14)"
      ]
     },
     "execution_count": 29,
     "metadata": {},
     "output_type": "execute_result"
    }
   ],
   "source": [
    "df.shape"
   ]
  },
  {
   "cell_type": "code",
   "execution_count": 30,
   "id": "74a1e6da",
   "metadata": {},
   "outputs": [
    {
     "data": {
      "text/plain": [
       "age         0\n",
       "sex         0\n",
       "cp          0\n",
       "trtbps      0\n",
       "chol        0\n",
       "fbs         0\n",
       "restecg     0\n",
       "thalachh    0\n",
       "exng        0\n",
       "oldpeak     0\n",
       "slp         0\n",
       "caa         0\n",
       "thall       0\n",
       "output      0\n",
       "dtype: int64"
      ]
     },
     "execution_count": 30,
     "metadata": {},
     "output_type": "execute_result"
    }
   ],
   "source": [
    "df.isnull().sum()"
   ]
  },
  {
   "cell_type": "code",
   "execution_count": 31,
   "id": "2d3bb7d1",
   "metadata": {},
   "outputs": [
    {
     "data": {
      "text/plain": [
       "1    165\n",
       "0    138\n",
       "Name: output, dtype: int64"
      ]
     },
     "execution_count": 31,
     "metadata": {},
     "output_type": "execute_result"
    }
   ],
   "source": [
    "d1 = df['output'].value_counts()\n",
    "d1"
   ]
  },
  {
   "cell_type": "code",
   "execution_count": 32,
   "id": "e21449ef",
   "metadata": {},
   "outputs": [
    {
     "data": {
      "image/png": "[encoded data removed]",
      "text/plain": [
       "<Figure size 432x288 with 1 Axes>"
      ]
     },
     "metadata": {
      "needs_background": "light"
     },
     "output_type": "display_data"
    }
   ],
   "source": [
    "plt.bar(['1','0'],d1.values)\n",
    "plt.grid()\n",
    "plt.show()"
   ]
  },
  {
   "cell_type": "code",
   "execution_count": 33,
   "id": "f47b672d",
   "metadata": {},
   "outputs": [
    {
     "data": {
      "text/plain": [
       "Index(['age', 'sex', 'cp', 'trtbps', 'chol', 'fbs', 'restecg', 'thalachh',\n",
       "       'exng', 'oldpeak', 'slp', 'caa', 'thall', 'output'],\n",
       "      dtype='object')"
      ]
     },
     "execution_count": 33,
     "metadata": {},
     "output_type": "execute_result"
    }
   ],
   "source": [
    "df.columns"
   ]
  },
  {
   "cell_type": "code",
   "execution_count": 34,
   "id": "09062d38",
   "metadata": {},
   "outputs": [],
   "source": [
    "x = df.iloc[:,:-1] # [age,sex, cp, trtbps, chol, fbs, restecg, thalachh ,exng, oldpeak, slp, caa, thall]\n",
    "y = df.iloc[:,-1]  # output"
   ]
  },
  {
   "cell_type": "code",
   "execution_count": 35,
   "id": "3bae6c87",
   "metadata": {},
   "outputs": [
    {
     "name": "stdout",
     "output_type": "stream",
     "text": [
      "<class 'pandas.core.frame.DataFrame'>\n",
      "<class 'pandas.core.series.Series'>\n",
      "(303, 13)\n",
      "(303,)\n"
     ]
    }
   ],
   "source": [
    "print(type(x))\n",
    "print(type(y))\n",
    "print(x.shape)\n",
    "print(y.shape)"
   ]
  },
  {
   "cell_type": "code",
   "execution_count": 36,
   "id": "522e48e6",
   "metadata": {},
   "outputs": [
    {
     "data": {
      "text/html": [
       "<div>\n",
       "<style scoped>\n",
       "    .dataframe tbody tr th:only-of-type {\n",
       "        vertical-align: middle;\n",
       "    }\n",
       "\n",
       "    .dataframe tbody tr th {\n",
       "        vertical-align: top;\n",
       "    }\n",
       "\n",
       "    .dataframe thead th {\n",
       "        text-align: right;\n",
       "    }\n",
       "</style>\n",
       "<table border=\"1\" class=\"dataframe\">\n",
       "  <thead>\n",
       "    <tr style=\"text-align: right;\">\n",
       "      <th></th>\n",
       "      <th>age</th>\n",
       "      <th>sex</th>\n",
       "      <th>cp</th>\n",
       "      <th>trtbps</th>\n",
       "      <th>chol</th>\n",
       "      <th>fbs</th>\n",
       "      <th>restecg</th>\n",
       "      <th>thalachh</th>\n",
       "      <th>exng</th>\n",
       "      <th>oldpeak</th>\n",
       "      <th>slp</th>\n",
       "      <th>caa</th>\n",
       "      <th>thall</th>\n",
       "    </tr>\n",
       "  </thead>\n",
       "  <tbody>\n",
       "    <tr>\n",
       "      <th>0</th>\n",
       "      <td>63</td>\n",
       "      <td>1</td>\n",
       "      <td>3</td>\n",
       "      <td>145</td>\n",
       "      <td>233</td>\n",
       "      <td>1</td>\n",
       "      <td>0</td>\n",
       "      <td>150</td>\n",
       "      <td>0</td>\n",
       "      <td>2.3</td>\n",
       "      <td>0</td>\n",
       "      <td>0</td>\n",
       "      <td>1</td>\n",
       "    </tr>\n",
       "    <tr>\n",
       "      <th>1</th>\n",
       "      <td>37</td>\n",
       "      <td>1</td>\n",
       "      <td>2</td>\n",
       "      <td>130</td>\n",
       "      <td>250</td>\n",
       "      <td>0</td>\n",
       "      <td>1</td>\n",
       "      <td>187</td>\n",
       "      <td>0</td>\n",
       "      <td>3.5</td>\n",
       "      <td>0</td>\n",
       "      <td>0</td>\n",
       "      <td>2</td>\n",
       "    </tr>\n",
       "    <tr>\n",
       "      <th>2</th>\n",
       "      <td>41</td>\n",
       "      <td>0</td>\n",
       "      <td>1</td>\n",
       "      <td>130</td>\n",
       "      <td>204</td>\n",
       "      <td>0</td>\n",
       "      <td>0</td>\n",
       "      <td>172</td>\n",
       "      <td>0</td>\n",
       "      <td>1.4</td>\n",
       "      <td>2</td>\n",
       "      <td>0</td>\n",
       "      <td>2</td>\n",
       "    </tr>\n",
       "    <tr>\n",
       "      <th>3</th>\n",
       "      <td>56</td>\n",
       "      <td>1</td>\n",
       "      <td>1</td>\n",
       "      <td>120</td>\n",
       "      <td>236</td>\n",
       "      <td>0</td>\n",
       "      <td>1</td>\n",
       "      <td>178</td>\n",
       "      <td>0</td>\n",
       "      <td>0.8</td>\n",
       "      <td>2</td>\n",
       "      <td>0</td>\n",
       "      <td>2</td>\n",
       "    </tr>\n",
       "    <tr>\n",
       "      <th>4</th>\n",
       "      <td>57</td>\n",
       "      <td>0</td>\n",
       "      <td>0</td>\n",
       "      <td>120</td>\n",
       "      <td>354</td>\n",
       "      <td>0</td>\n",
       "      <td>1</td>\n",
       "      <td>163</td>\n",
       "      <td>1</td>\n",
       "      <td>0.6</td>\n",
       "      <td>2</td>\n",
       "      <td>0</td>\n",
       "      <td>2</td>\n",
       "    </tr>\n",
       "  </tbody>\n",
       "</table>\n",
       "</div>"
      ],
      "text/plain": [
       "   age  sex  cp  trtbps  chol  fbs  restecg  thalachh  exng  oldpeak  slp  \\\n",
       "0   63    1   3     145   233    1        0       150     0      2.3    0   \n",
       "1   37    1   2     130   250    0        1       187     0      3.5    0   \n",
       "2   41    0   1     130   204    0        0       172     0      1.4    2   \n",
       "3   56    1   1     120   236    0        1       178     0      0.8    2   \n",
       "4   57    0   0     120   354    0        1       163     1      0.6    2   \n",
       "\n",
       "   caa  thall  \n",
       "0    0      1  \n",
       "1    0      2  \n",
       "2    0      2  \n",
       "3    0      2  \n",
       "4    0      2  "
      ]
     },
     "execution_count": 36,
     "metadata": {},
     "output_type": "execute_result"
    }
   ],
   "source": [
    "x.head()"
   ]
  },
  {
   "cell_type": "code",
   "execution_count": 37,
   "id": "c4ed5c9b",
   "metadata": {},
   "outputs": [
    {
     "data": {
      "text/plain": [
       "0    1\n",
       "1    1\n",
       "2    1\n",
       "3    1\n",
       "4    1\n",
       "Name: output, dtype: int64"
      ]
     },
     "execution_count": 37,
     "metadata": {},
     "output_type": "execute_result"
    }
   ],
   "source": [
    "y.head()"
   ]
  },
  {
   "cell_type": "code",
   "execution_count": 38,
   "id": "a9cadac5",
   "metadata": {},
   "outputs": [],
   "source": [
    "from sklearn.model_selection import train_test_split"
   ]
  },
  {
   "cell_type": "code",
   "execution_count": 84,
   "id": "c3d75e30",
   "metadata": {},
   "outputs": [
    {
     "name": "stdout",
     "output_type": "stream",
     "text": [
      "(227, 13)\n",
      "(76, 13)\n",
      "(227,)\n",
      "(76,)\n"
     ]
    }
   ],
   "source": [
    "x_train,x_test, y_train,y_test = train_test_split(x,y,test_size=0.25,random_state=22)\n",
    "print(x_train.shape)\n",
    "print(x_test.shape)\n",
    "print(y_train.shape)\n",
    "print(y_test.shape)"
   ]
  },
  {
   "cell_type": "code",
   "execution_count": 85,
   "id": "1e3f1a60",
   "metadata": {},
   "outputs": [
    {
     "data": {
      "text/html": [
       "<div>\n",
       "<style scoped>\n",
       "    .dataframe tbody tr th:only-of-type {\n",
       "        vertical-align: middle;\n",
       "    }\n",
       "\n",
       "    .dataframe tbody tr th {\n",
       "        vertical-align: top;\n",
       "    }\n",
       "\n",
       "    .dataframe thead th {\n",
       "        text-align: right;\n",
       "    }\n",
       "</style>\n",
       "<table border=\"1\" class=\"dataframe\">\n",
       "  <thead>\n",
       "    <tr style=\"text-align: right;\">\n",
       "      <th></th>\n",
       "      <th>age</th>\n",
       "      <th>sex</th>\n",
       "      <th>cp</th>\n",
       "      <th>trtbps</th>\n",
       "      <th>chol</th>\n",
       "      <th>fbs</th>\n",
       "      <th>restecg</th>\n",
       "      <th>thalachh</th>\n",
       "      <th>exng</th>\n",
       "      <th>oldpeak</th>\n",
       "      <th>slp</th>\n",
       "      <th>caa</th>\n",
       "      <th>thall</th>\n",
       "    </tr>\n",
       "  </thead>\n",
       "  <tbody>\n",
       "    <tr>\n",
       "      <th>110</th>\n",
       "      <td>64</td>\n",
       "      <td>0</td>\n",
       "      <td>0</td>\n",
       "      <td>180</td>\n",
       "      <td>325</td>\n",
       "      <td>0</td>\n",
       "      <td>1</td>\n",
       "      <td>154</td>\n",
       "      <td>1</td>\n",
       "      <td>0.0</td>\n",
       "      <td>2</td>\n",
       "      <td>0</td>\n",
       "      <td>2</td>\n",
       "    </tr>\n",
       "    <tr>\n",
       "      <th>230</th>\n",
       "      <td>47</td>\n",
       "      <td>1</td>\n",
       "      <td>2</td>\n",
       "      <td>108</td>\n",
       "      <td>243</td>\n",
       "      <td>0</td>\n",
       "      <td>1</td>\n",
       "      <td>152</td>\n",
       "      <td>0</td>\n",
       "      <td>0.0</td>\n",
       "      <td>2</td>\n",
       "      <td>0</td>\n",
       "      <td>2</td>\n",
       "    </tr>\n",
       "    <tr>\n",
       "      <th>124</th>\n",
       "      <td>39</td>\n",
       "      <td>0</td>\n",
       "      <td>2</td>\n",
       "      <td>94</td>\n",
       "      <td>199</td>\n",
       "      <td>0</td>\n",
       "      <td>1</td>\n",
       "      <td>179</td>\n",
       "      <td>0</td>\n",
       "      <td>0.0</td>\n",
       "      <td>2</td>\n",
       "      <td>0</td>\n",
       "      <td>2</td>\n",
       "    </tr>\n",
       "  </tbody>\n",
       "</table>\n",
       "</div>"
      ],
      "text/plain": [
       "     age  sex  cp  trtbps  chol  fbs  restecg  thalachh  exng  oldpeak  slp  \\\n",
       "110   64    0   0     180   325    0        1       154     1      0.0    2   \n",
       "230   47    1   2     108   243    0        1       152     0      0.0    2   \n",
       "124   39    0   2      94   199    0        1       179     0      0.0    2   \n",
       "\n",
       "     caa  thall  \n",
       "110    0      2  \n",
       "230    0      2  \n",
       "124    0      2  "
      ]
     },
     "execution_count": 85,
     "metadata": {},
     "output_type": "execute_result"
    }
   ],
   "source": [
    "x_train.head(3)"
   ]
  },
  {
   "cell_type": "code",
   "execution_count": 86,
   "id": "d845ac39",
   "metadata": {},
   "outputs": [],
   "source": [
    "from warnings import filterwarnings\n",
    "filterwarnings('ignore')"
   ]
  },
  {
   "cell_type": "markdown",
   "id": "0b660f2f",
   "metadata": {},
   "source": [
    "#### Build ANN Binary Classification Architecture\n",
    "Model - 1"
   ]
  },
  {
   "cell_type": "code",
   "execution_count": 87,
   "id": "7886f9af",
   "metadata": {},
   "outputs": [],
   "source": [
    "from tensorflow.keras.models import Sequential\n",
    "from tensorflow.keras.layers import Dense, LeakyReLU\n",
    "from tensorflow.keras.optimizers import Adam, SGD, RMSprop\n",
    "from tensorflow.keras.activations import relu"
   ]
  },
  {
   "cell_type": "code",
   "execution_count": 88,
   "id": "4ddcdb3c",
   "metadata": {},
   "outputs": [],
   "source": [
    "m1 = Sequential()                                 # Input layer has 13 neurons\n",
    "m1.add(Dense(50,activation='relu',input_dim=13))  # H1 has 50 neurons\n",
    "m1.add(Dense(25,activation='relu'))               # H2 has 25 neurons\n",
    "m1.add(Dense(13,activation='relu'))               # H3 has 13 neurons\n",
    "m1.add(Dense(1,activation='sigmoid'))             # Output layer has 1 neurons\n",
    "\n",
    "m1.compile(optimizer='adam',loss='binary_crossentropy',metrics=['accuracy'])"
   ]
  },
  {
   "cell_type": "code",
   "execution_count": 89,
   "id": "919a2c69",
   "metadata": {},
   "outputs": [
    {
     "name": "stdout",
     "output_type": "stream",
     "text": [
      "WARNING:tensorflow:Falling back from v2 loop because of error: Failed to find data adapter that can handle input: <class 'pandas.core.frame.DataFrame'>, <class 'NoneType'>\n",
      "Train on 227 samples, validate on 76 samples\n",
      "Epoch 1/50\n",
      "227/227 [==============================] - 1s 3ms/sample - loss: 4.3012 - accuracy: 0.5286 - val_loss: 2.2325 - val_accuracy: 0.4079\n",
      "Epoch 2/50\n",
      "227/227 [==============================] - 0s 82us/sample - loss: 2.0023 - accuracy: 0.5110 - val_loss: 1.3632 - val_accuracy: 0.6053\n",
      "Epoch 3/50\n",
      "227/227 [==============================] - 0s 92us/sample - loss: 1.3339 - accuracy: 0.6079 - val_loss: 1.1487 - val_accuracy: 0.6053\n",
      "Epoch 4/50\n",
      "227/227 [==============================] - 0s 94us/sample - loss: 1.0102 - accuracy: 0.6123 - val_loss: 1.0292 - val_accuracy: 0.6316\n",
      "Epoch 5/50\n",
      "227/227 [==============================] - 0s 109us/sample - loss: 0.8476 - accuracy: 0.6916 - val_loss: 0.9331 - val_accuracy: 0.5789\n",
      "Epoch 6/50\n",
      "227/227 [==============================] - 0s 104us/sample - loss: 0.8131 - accuracy: 0.6123 - val_loss: 0.9661 - val_accuracy: 0.5263\n",
      "Epoch 7/50\n",
      "227/227 [==============================] - 0s 107us/sample - loss: 0.7930 - accuracy: 0.6388 - val_loss: 0.7815 - val_accuracy: 0.5921\n",
      "Epoch 8/50\n",
      "227/227 [==============================] - 0s 107us/sample - loss: 0.7204 - accuracy: 0.6476 - val_loss: 0.8620 - val_accuracy: 0.5789\n",
      "Epoch 9/50\n",
      "227/227 [==============================] - 0s 96us/sample - loss: 0.7581 - accuracy: 0.6344 - val_loss: 0.8751 - val_accuracy: 0.5658\n",
      "Epoch 10/50\n",
      "227/227 [==============================] - 0s 107us/sample - loss: 0.7067 - accuracy: 0.6564 - val_loss: 0.7375 - val_accuracy: 0.6447\n",
      "Epoch 11/50\n",
      "227/227 [==============================] - 0s 100us/sample - loss: 0.7223 - accuracy: 0.6256 - val_loss: 0.8288 - val_accuracy: 0.5921\n",
      "Epoch 12/50\n",
      "227/227 [==============================] - 0s 109us/sample - loss: 0.6382 - accuracy: 0.6872 - val_loss: 0.6996 - val_accuracy: 0.6579\n",
      "Epoch 13/50\n",
      "227/227 [==============================] - 0s 100us/sample - loss: 0.5854 - accuracy: 0.6784 - val_loss: 0.7115 - val_accuracy: 0.6447\n",
      "Epoch 14/50\n",
      "227/227 [==============================] - 0s 111us/sample - loss: 0.6631 - accuracy: 0.6520 - val_loss: 0.8748 - val_accuracy: 0.5658\n",
      "Epoch 15/50\n",
      "227/227 [==============================] - 0s 109us/sample - loss: 0.6427 - accuracy: 0.6256 - val_loss: 0.6904 - val_accuracy: 0.6842\n",
      "Epoch 16/50\n",
      "227/227 [==============================] - 0s 101us/sample - loss: 0.5485 - accuracy: 0.7004 - val_loss: 0.7618 - val_accuracy: 0.6053\n",
      "Epoch 17/50\n",
      "227/227 [==============================] - 0s 101us/sample - loss: 0.6141 - accuracy: 0.6916 - val_loss: 0.6739 - val_accuracy: 0.6711\n",
      "Epoch 18/50\n",
      "227/227 [==============================] - 0s 109us/sample - loss: 0.5500 - accuracy: 0.7225 - val_loss: 0.6720 - val_accuracy: 0.6842\n",
      "Epoch 19/50\n",
      "227/227 [==============================] - 0s 115us/sample - loss: 0.5638 - accuracy: 0.6696 - val_loss: 0.7056 - val_accuracy: 0.6711\n",
      "Epoch 20/50\n",
      "227/227 [==============================] - 0s 111us/sample - loss: 0.6907 - accuracy: 0.6432 - val_loss: 0.7792 - val_accuracy: 0.5921\n",
      "Epoch 21/50\n",
      "227/227 [==============================] - 0s 114us/sample - loss: 0.6407 - accuracy: 0.6476 - val_loss: 0.7679 - val_accuracy: 0.6053\n",
      "Epoch 22/50\n",
      "227/227 [==============================] - 0s 107us/sample - loss: 0.5929 - accuracy: 0.6916 - val_loss: 0.6625 - val_accuracy: 0.6974\n",
      "Epoch 23/50\n",
      "227/227 [==============================] - 0s 111us/sample - loss: 0.5400 - accuracy: 0.7048 - val_loss: 0.6924 - val_accuracy: 0.6974\n",
      "Epoch 24/50\n",
      "227/227 [==============================] - 0s 118us/sample - loss: 0.5789 - accuracy: 0.6828 - val_loss: 0.6698 - val_accuracy: 0.6579\n",
      "Epoch 25/50\n",
      "227/227 [==============================] - 0s 131us/sample - loss: 0.5197 - accuracy: 0.7269 - val_loss: 0.6468 - val_accuracy: 0.6579\n",
      "Epoch 26/50\n",
      "227/227 [==============================] - 0s 145us/sample - loss: 0.5147 - accuracy: 0.7269 - val_loss: 0.7168 - val_accuracy: 0.6184\n",
      "Epoch 27/50\n",
      "227/227 [==============================] - 0s 140us/sample - loss: 0.5443 - accuracy: 0.7137 - val_loss: 0.6537 - val_accuracy: 0.7368\n",
      "Epoch 28/50\n",
      "227/227 [==============================] - 0s 154us/sample - loss: 0.5378 - accuracy: 0.7401 - val_loss: 0.6540 - val_accuracy: 0.6974\n",
      "Epoch 29/50\n",
      "227/227 [==============================] - 0s 143us/sample - loss: 0.4916 - accuracy: 0.7665 - val_loss: 0.6474 - val_accuracy: 0.6711\n",
      "Epoch 30/50\n",
      "227/227 [==============================] - 0s 144us/sample - loss: 0.4971 - accuracy: 0.7401 - val_loss: 0.7090 - val_accuracy: 0.6711\n",
      "Epoch 31/50\n",
      "227/227 [==============================] - 0s 142us/sample - loss: 0.5483 - accuracy: 0.6696 - val_loss: 0.6284 - val_accuracy: 0.6974\n",
      "Epoch 32/50\n",
      "227/227 [==============================] - 0s 125us/sample - loss: 0.5227 - accuracy: 0.7137 - val_loss: 0.6221 - val_accuracy: 0.6974\n",
      "Epoch 33/50\n",
      "227/227 [==============================] - 0s 117us/sample - loss: 0.4800 - accuracy: 0.7709 - val_loss: 0.6522 - val_accuracy: 0.6711\n",
      "Epoch 34/50\n",
      "227/227 [==============================] - 0s 129us/sample - loss: 0.4822 - accuracy: 0.7533 - val_loss: 0.6462 - val_accuracy: 0.6974\n",
      "Epoch 35/50\n",
      "227/227 [==============================] - 0s 114us/sample - loss: 0.5345 - accuracy: 0.7225 - val_loss: 0.6597 - val_accuracy: 0.6579\n",
      "Epoch 36/50\n",
      "227/227 [==============================] - 0s 124us/sample - loss: 0.5270 - accuracy: 0.7401 - val_loss: 0.7628 - val_accuracy: 0.6184\n",
      "Epoch 37/50\n",
      "227/227 [==============================] - 0s 121us/sample - loss: 0.5751 - accuracy: 0.7093 - val_loss: 0.6861 - val_accuracy: 0.6579\n",
      "Epoch 38/50\n",
      "227/227 [==============================] - 0s 99us/sample - loss: 0.5379 - accuracy: 0.7313 - val_loss: 0.6293 - val_accuracy: 0.7368\n",
      "Epoch 39/50\n",
      "227/227 [==============================] - 0s 103us/sample - loss: 0.4596 - accuracy: 0.7885 - val_loss: 0.6222 - val_accuracy: 0.6974\n",
      "Epoch 40/50\n",
      "227/227 [==============================] - 0s 105us/sample - loss: 0.4653 - accuracy: 0.7797 - val_loss: 0.6750 - val_accuracy: 0.6974\n",
      "Epoch 41/50\n",
      "227/227 [==============================] - 0s 101us/sample - loss: 0.5212 - accuracy: 0.7577 - val_loss: 0.6952 - val_accuracy: 0.6579\n",
      "Epoch 42/50\n",
      "227/227 [==============================] - 0s 109us/sample - loss: 0.4918 - accuracy: 0.7137 - val_loss: 0.5996 - val_accuracy: 0.7237\n",
      "Epoch 43/50\n",
      "227/227 [==============================] - 0s 122us/sample - loss: 0.4949 - accuracy: 0.7533 - val_loss: 0.6088 - val_accuracy: 0.7237\n",
      "Epoch 44/50\n",
      "227/227 [==============================] - 0s 115us/sample - loss: 0.4528 - accuracy: 0.7753 - val_loss: 0.6212 - val_accuracy: 0.7237\n",
      "Epoch 45/50\n",
      "227/227 [==============================] - 0s 115us/sample - loss: 0.5334 - accuracy: 0.7313 - val_loss: 0.6077 - val_accuracy: 0.7105\n",
      "Epoch 46/50\n",
      "227/227 [==============================] - 0s 116us/sample - loss: 0.5961 - accuracy: 0.6784 - val_loss: 0.8122 - val_accuracy: 0.5789\n",
      "Epoch 47/50\n",
      "227/227 [==============================] - 0s 108us/sample - loss: 0.5504 - accuracy: 0.7313 - val_loss: 0.6367 - val_accuracy: 0.6711\n",
      "Epoch 48/50\n",
      "227/227 [==============================] - 0s 108us/sample - loss: 0.4422 - accuracy: 0.7930 - val_loss: 0.6114 - val_accuracy: 0.7368\n",
      "Epoch 49/50\n",
      "227/227 [==============================] - 0s 104us/sample - loss: 0.4758 - accuracy: 0.7577 - val_loss: 0.6499 - val_accuracy: 0.7105\n",
      "Epoch 50/50\n",
      "227/227 [==============================] - 0s 109us/sample - loss: 0.4687 - accuracy: 0.7797 - val_loss: 0.5664 - val_accuracy: 0.7500\n"
     ]
    }
   ],
   "source": [
    "h1 = m1.fit(x_train,y_train,epochs=50,validation_data=(x_test,y_test))"
   ]
  },
  {
   "cell_type": "code",
   "execution_count": 90,
   "id": "836e585f",
   "metadata": {},
   "outputs": [
    {
     "data": {
      "text/html": [
       "<div>\n",
       "<style scoped>\n",
       "    .dataframe tbody tr th:only-of-type {\n",
       "        vertical-align: middle;\n",
       "    }\n",
       "\n",
       "    .dataframe tbody tr th {\n",
       "        vertical-align: top;\n",
       "    }\n",
       "\n",
       "    .dataframe thead th {\n",
       "        text-align: right;\n",
       "    }\n",
       "</style>\n",
       "<table border=\"1\" class=\"dataframe\">\n",
       "  <thead>\n",
       "    <tr style=\"text-align: right;\">\n",
       "      <th></th>\n",
       "      <th>loss</th>\n",
       "      <th>accuracy</th>\n",
       "      <th>val_loss</th>\n",
       "      <th>val_accuracy</th>\n",
       "      <th>Epochs</th>\n",
       "    </tr>\n",
       "  </thead>\n",
       "  <tbody>\n",
       "    <tr>\n",
       "      <th>45</th>\n",
       "      <td>0.596119</td>\n",
       "      <td>0.678414</td>\n",
       "      <td>0.812230</td>\n",
       "      <td>0.578947</td>\n",
       "      <td>45</td>\n",
       "    </tr>\n",
       "    <tr>\n",
       "      <th>46</th>\n",
       "      <td>0.550370</td>\n",
       "      <td>0.731278</td>\n",
       "      <td>0.636675</td>\n",
       "      <td>0.671053</td>\n",
       "      <td>46</td>\n",
       "    </tr>\n",
       "    <tr>\n",
       "      <th>47</th>\n",
       "      <td>0.442200</td>\n",
       "      <td>0.792952</td>\n",
       "      <td>0.611444</td>\n",
       "      <td>0.736842</td>\n",
       "      <td>47</td>\n",
       "    </tr>\n",
       "    <tr>\n",
       "      <th>48</th>\n",
       "      <td>0.475796</td>\n",
       "      <td>0.757709</td>\n",
       "      <td>0.649915</td>\n",
       "      <td>0.710526</td>\n",
       "      <td>48</td>\n",
       "    </tr>\n",
       "    <tr>\n",
       "      <th>49</th>\n",
       "      <td>0.468673</td>\n",
       "      <td>0.779736</td>\n",
       "      <td>0.566427</td>\n",
       "      <td>0.750000</td>\n",
       "      <td>49</td>\n",
       "    </tr>\n",
       "  </tbody>\n",
       "</table>\n",
       "</div>"
      ],
      "text/plain": [
       "        loss  accuracy  val_loss  val_accuracy  Epochs\n",
       "45  0.596119  0.678414  0.812230      0.578947      45\n",
       "46  0.550370  0.731278  0.636675      0.671053      46\n",
       "47  0.442200  0.792952  0.611444      0.736842      47\n",
       "48  0.475796  0.757709  0.649915      0.710526      48\n",
       "49  0.468673  0.779736  0.566427      0.750000      49"
      ]
     },
     "execution_count": 90,
     "metadata": {},
     "output_type": "execute_result"
    }
   ],
   "source": [
    "r1 = pd.DataFrame(h1.history)\n",
    "r1['Epochs'] = h1.epoch\n",
    "r1.tail()"
   ]
  },
  {
   "cell_type": "code",
   "execution_count": 91,
   "id": "638fc15e",
   "metadata": {},
   "outputs": [
    {
     "data": {
      "image/png": "[encoded data removed]",
      "text/plain": [
       "<Figure size 432x288 with 1 Axes>"
      ]
     },
     "metadata": {
      "needs_background": "light"
     },
     "output_type": "display_data"
    }
   ],
   "source": [
    "plt.plot(r1['Epochs'],r1['loss'],label='Training loss')\n",
    "plt.plot(r1['Epochs'],r1['val_loss'],label='Testing loss')\n",
    "plt.xlabel('Epochs - No of Iterations')\n",
    "plt.ylabel('Loss')\n",
    "plt.grid()\n",
    "plt.legend()\n",
    "plt.show()"
   ]
  },
  {
   "cell_type": "code",
   "execution_count": 92,
   "id": "09934e04",
   "metadata": {},
   "outputs": [
    {
     "data": {
      "image/png": "[encoded data removed]",
      "text/plain": [
       "<Figure size 432x288 with 1 Axes>"
      ]
     },
     "metadata": {
      "needs_background": "light"
     },
     "output_type": "display_data"
    }
   ],
   "source": [
    "plt.plot(r1['Epochs'],r1['accuracy'],label='Training accuracy')\n",
    "plt.plot(r1['Epochs'],r1['val_accuracy'],label='Testing accuracy')\n",
    "plt.xlabel('Epochs - No of Iterations')\n",
    "plt.ylabel('accuracy')\n",
    "plt.grid()\n",
    "plt.legend()\n",
    "plt.show()"
   ]
  },
  {
   "cell_type": "code",
   "execution_count": 93,
   "id": "10703b9e",
   "metadata": {},
   "outputs": [
    {
     "name": "stdout",
     "output_type": "stream",
     "text": [
      "WARNING:tensorflow:Falling back from v2 loop because of error: Failed to find data adapter that can handle input: <class 'pandas.core.frame.DataFrame'>, <class 'NoneType'>\n"
     ]
    },
    {
     "data": {
      "text/plain": [
       "array([[0.05735591],\n",
       "       [0.95958865],\n",
       "       [0.9021511 ],\n",
       "       [0.2792666 ],\n",
       "       [0.9313531 ],\n",
       "       [0.6771112 ],\n",
       "       [0.8151783 ],\n",
       "       [0.14584723],\n",
       "       [0.0420489 ],\n",
       "       [0.10631078],\n",
       "       [0.7392812 ],\n",
       "       [0.9391837 ],\n",
       "       [0.2664498 ],\n",
       "       [0.60879314],\n",
       "       [0.65760165],\n",
       "       [0.89043283],\n",
       "       [0.89001435],\n",
       "       [0.11066821],\n",
       "       [0.7355074 ],\n",
       "       [0.27771482],\n",
       "       [0.7689726 ],\n",
       "       [0.15893006],\n",
       "       [0.58611655],\n",
       "       [0.24164063],\n",
       "       [0.392146  ],\n",
       "       [0.573208  ],\n",
       "       [0.85913306],\n",
       "       [0.92793393],\n",
       "       [0.19109768],\n",
       "       [0.16603565],\n",
       "       [0.5067441 ],\n",
       "       [0.34540913],\n",
       "       [0.55254877],\n",
       "       [0.11045384],\n",
       "       [0.7607039 ],\n",
       "       [0.4044175 ],\n",
       "       [0.334903  ],\n",
       "       [0.7478776 ],\n",
       "       [0.76100445],\n",
       "       [0.90539765],\n",
       "       [0.3922767 ],\n",
       "       [0.6491314 ],\n",
       "       [0.94614685],\n",
       "       [0.6984802 ],\n",
       "       [0.8293948 ],\n",
       "       [0.3543806 ],\n",
       "       [0.2810986 ],\n",
       "       [0.74753165],\n",
       "       [0.28644994],\n",
       "       [0.76139545],\n",
       "       [0.2657393 ],\n",
       "       [0.8205831 ],\n",
       "       [0.23002106],\n",
       "       [0.77388835],\n",
       "       [0.22795361],\n",
       "       [0.50012743],\n",
       "       [0.78897697],\n",
       "       [0.29934525],\n",
       "       [0.6838477 ],\n",
       "       [0.8251978 ],\n",
       "       [0.6277786 ],\n",
       "       [0.37746143],\n",
       "       [0.9080491 ],\n",
       "       [0.79104036],\n",
       "       [0.55105203],\n",
       "       [0.5430816 ],\n",
       "       [0.819695  ],\n",
       "       [0.06383744],\n",
       "       [0.95289534],\n",
       "       [0.9294119 ],\n",
       "       [0.846812  ],\n",
       "       [0.17232311],\n",
       "       [0.3301344 ],\n",
       "       [0.16623548],\n",
       "       [0.25108337],\n",
       "       [0.49137783]], dtype=float32)"
      ]
     },
     "execution_count": 93,
     "metadata": {},
     "output_type": "execute_result"
    }
   ],
   "source": [
    "ypred = m1.predict(x_test)\n",
    "ypred"
   ]
  },
  {
   "cell_type": "code",
   "execution_count": 94,
   "id": "fa5d959c",
   "metadata": {},
   "outputs": [
    {
     "name": "stdout",
     "output_type": "stream",
     "text": [
      "[0, 1, 1, 0, 1, 1, 1, 0, 0, 0, 1, 1, 0, 1, 1, 1, 1, 0, 1, 0, 1, 0, 1, 0, 0, 1, 1, 1, 0, 0, 1, 0, 1, 0, 1, 0, 0, 1, 1, 1, 0, 1, 1, 1, 1, 0, 0, 1, 0, 1, 0, 1, 0, 1, 0, 1, 1, 0, 1, 1, 1, 0, 1, 1, 1, 1, 1, 0, 1, 1, 1, 0, 0, 0, 0, 0]\n"
     ]
    }
   ],
   "source": [
    "# list comprehension\n",
    "ypred_m1 = [1 if i>0.5 else 0 for i in ypred]\n",
    "print(ypred_m1)"
   ]
  },
  {
   "cell_type": "code",
   "execution_count": 95,
   "id": "de5a44d0",
   "metadata": {},
   "outputs": [
    {
     "name": "stdout",
     "output_type": "stream",
     "text": [
      "[1, 1, 0, 0, 1, 0, 1, 0, 0, 1, 1, 1, 1, 0, 1, 1, 1, 0, 1, 0, 1, 0, 0, 0, 0, 1, 1, 1, 0, 0, 1, 0, 0, 0, 1, 0, 1, 1, 0, 0, 0, 1, 1, 0, 1, 0, 1, 1, 1, 1, 0, 1, 0, 1, 0, 0, 1, 1, 1, 1, 1, 1, 1, 1, 0, 1, 1, 0, 0, 1, 1, 0, 0, 0, 0, 0]\n"
     ]
    }
   ],
   "source": [
    "print(list(y_test))"
   ]
  },
  {
   "cell_type": "code",
   "execution_count": 96,
   "id": "83a22ed3",
   "metadata": {},
   "outputs": [],
   "source": [
    "from sklearn.metrics import confusion_matrix, classification_report"
   ]
  },
  {
   "cell_type": "code",
   "execution_count": 97,
   "id": "65a3e883",
   "metadata": {},
   "outputs": [
    {
     "name": "stdout",
     "output_type": "stream",
     "text": [
      "[[24 11]\n",
      " [ 8 33]]\n",
      "              precision    recall  f1-score   support\n",
      "\n",
      "           0       0.75      0.69      0.72        35\n",
      "           1       0.75      0.80      0.78        41\n",
      "\n",
      "    accuracy                           0.75        76\n",
      "   macro avg       0.75      0.75      0.75        76\n",
      "weighted avg       0.75      0.75      0.75        76\n",
      "\n"
     ]
    }
   ],
   "source": [
    "cm = confusion_matrix(y_test,ypred_m1)\n",
    "print(cm)\n",
    "print(classification_report(y_test,ypred_m1))\n",
    "# [TP=25  FN=7]\n",
    "# [FP=16   TN=28]"
   ]
  },
  {
   "cell_type": "markdown",
   "id": "2b99529e",
   "metadata": {},
   "source": [
    "### Customization"
   ]
  },
  {
   "cell_type": "code",
   "execution_count": 98,
   "id": "c3b82a33",
   "metadata": {},
   "outputs": [],
   "source": [
    "from tensorflow.keras import initializers as init, regularizers as reg\n",
    "from tensorflow.keras.optimizers import Adam, SGD,Adadelta, Adagrad"
   ]
  },
  {
   "cell_type": "code",
   "execution_count": 99,
   "id": "50fbb509",
   "metadata": {},
   "outputs": [],
   "source": [
    "opt1=Adam(learning_rate=0.001,beta_1=0.8,beta_2=0.999,epsilon=1e-07)\n",
    "opt2=SGD(learning_rate=0.01,momentum=0.0,nesterov=False)\n",
    "opt3=Adagrad(learning_rate=0.001,initial_accumulator_value=0.1,epsilon=1e-07)\n",
    "opt4=Adadelta(learning_rate=0.001,rho=0.95,epsilon=1e-07)\n",
    "\n",
    "#cust_model.compile(optimizer=opt1)"
   ]
  },
  {
   "cell_type": "code",
   "execution_count": 100,
   "id": "a3b8acae",
   "metadata": {},
   "outputs": [
    {
     "data": {
      "text/plain": [
       "['L1L2',\n",
       " 'Regularizer',\n",
       " '__builtins__',\n",
       " '__cached__',\n",
       " '__doc__',\n",
       " '__file__',\n",
       " '__loader__',\n",
       " '__name__',\n",
       " '__package__',\n",
       " '__path__',\n",
       " '__spec__',\n",
       " '_sys',\n",
       " 'deserialize',\n",
       " 'get',\n",
       " 'l1',\n",
       " 'l1_l2',\n",
       " 'l2',\n",
       " 'serialize']"
      ]
     },
     "execution_count": 100,
     "metadata": {},
     "output_type": "execute_result"
    }
   ],
   "source": [
    "dir(reg)"
   ]
  },
  {
   "cell_type": "code",
   "execution_count": 101,
   "id": "7bf42226",
   "metadata": {},
   "outputs": [
    {
     "data": {
      "text/plain": [
       "['Constant',\n",
       " 'GlorotNormal',\n",
       " 'GlorotUniform',\n",
       " 'Identity',\n",
       " 'Initializer',\n",
       " 'Ones',\n",
       " 'Orthogonal',\n",
       " 'RandomNormal',\n",
       " 'RandomUniform',\n",
       " 'TruncatedNormal',\n",
       " 'VarianceScaling',\n",
       " 'Zeros',\n",
       " '__builtins__',\n",
       " '__cached__',\n",
       " '__doc__',\n",
       " '__file__',\n",
       " '__loader__',\n",
       " '__name__',\n",
       " '__package__',\n",
       " '__path__',\n",
       " '__spec__',\n",
       " '_sys',\n",
       " 'constant',\n",
       " 'deserialize',\n",
       " 'get',\n",
       " 'glorot_normal',\n",
       " 'glorot_uniform',\n",
       " 'he_normal',\n",
       " 'he_uniform',\n",
       " 'identity',\n",
       " 'lecun_normal',\n",
       " 'lecun_uniform',\n",
       " 'ones',\n",
       " 'orthogonal',\n",
       " 'serialize',\n",
       " 'zeros']"
      ]
     },
     "execution_count": 101,
     "metadata": {},
     "output_type": "execute_result"
    }
   ],
   "source": [
    "dir(init)"
   ]
  },
  {
   "cell_type": "code",
   "execution_count": 102,
   "id": "d268bf21",
   "metadata": {},
   "outputs": [],
   "source": [
    "m2=Sequential()\n",
    "m2.add(Dense(units=20, kernel_initializer=init.RandomNormal(mean=0.0,stddev=0.05),\n",
    "             kernel_regularizer=reg.l1(0.1), activation='relu', input_dim=5))\n",
    "m2.add (Dense(units=10,activation='relu'))\n",
    "m2.add (Dense(units=1, activation= 'sigmoid'))\n",
    "m2.compile(optimizer='adam',loss='binary_crossentropy',metrics=['accuracy'])"
   ]
  },
  {
   "cell_type": "code",
   "execution_count": null,
   "id": "c22d63ac",
   "metadata": {},
   "outputs": [],
   "source": []
  }
 ],
 "metadata": {
  "kernelspec": {
   "display_name": "Python 3 (ipykernel)",
   "language": "python",
   "name": "python3"
  },
  "language_info": {
   "codemirror_mode": {
    "name": "ipython",
    "version": 3
   },
   "file_extension": ".py",
   "mimetype": "text/x-python",
   "name": "python",
   "nbconvert_exporter": "python",
   "pygments_lexer": "ipython3",
   "version": "3.7.13"
  }
 },
 "nbformat": 4,
 "nbformat_minor": 5
}
